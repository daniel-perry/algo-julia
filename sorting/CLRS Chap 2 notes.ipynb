{
 "metadata": {
  "language": "Julia",
  "name": "",
  "signature": "sha256:4d2255c24f992a5e586db429e6c0da818c2b8e5a40c8e2df0afa334dadd3c92a"
 },
 "nbformat": 3,
 "nbformat_minor": 0,
 "worksheets": [
  {
   "cells": [
    {
     "cell_type": "code",
     "collapsed": false,
     "input": [
      "using PyCall\n",
      "@pyimport IPython.display as ipdisplay"
     ],
     "language": "python",
     "metadata": {},
     "outputs": [],
     "prompt_number": 12
    },
    {
     "cell_type": "code",
     "collapsed": false,
     "input": [
      "# example comparison function\n",
      "function compare_numbers(a,b)\n",
      "    if a[1] < b[1]\n",
      "        return -1\n",
      "    elseif a[1] > b[1]\n",
      "        return 1\n",
      "    else\n",
      "        return 0\n",
      "    end\n",
      "end\n",
      "\n",
      "# example comparison function\n",
      "function compare_L2(a,b)\n",
      "    if norm(a,2) < norm(b,2)\n",
      "        return -1\n",
      "    elseif norm(a,2) > norm(b,2)\n",
      "        return 1\n",
      "    else\n",
      "        return 0\n",
      "    end\n",
      "end\n",
      "\n",
      "# example comparison function\n",
      "function compare_L1(a,b)\n",
      "    if norm(a,1) < norm(b,1)\n",
      "        return -1\n",
      "    elseif norm(a,1) > norm(b,1)\n",
      "        return 1\n",
      "    else\n",
      "        return 0\n",
      "    end\n",
      "end"
     ],
     "language": "python",
     "metadata": {},
     "outputs": [
      {
       "metadata": {},
       "output_type": "pyout",
       "prompt_number": 2,
       "text": [
        "compare_L1 (generic function with 1 method)"
       ]
      }
     ],
     "prompt_number": 2
    },
    {
     "cell_type": "code",
     "collapsed": false,
     "input": [
      "# insertion sort\n",
      "# Runtime: O(n^2)\n",
      "function insertion_sort(A,compare)\n",
      "    n = size(A,1)\n",
      "    for i=2:n\n",
      "        val = A[i,:]\n",
      "        ind = 0\n",
      "        for j=1:i-1 #TODO use binary search instead\n",
      "            if compare(val,A[j,:]) <= 0\n",
      "                ind = j\n",
      "                break\n",
      "            end \n",
      "        end\n",
      "        if ind > 0\n",
      "            A[ind+1:i,:] = A[ind:i-1,:]\n",
      "            A[ind,:] = val\n",
      "        end\n",
      "    end\n",
      "    A\n",
      "end"
     ],
     "language": "python",
     "metadata": {},
     "outputs": [
      {
       "metadata": {},
       "output_type": "pyout",
       "prompt_number": 3,
       "text": [
        "insertion_sort (generic function with 1 method)"
       ]
      }
     ],
     "prompt_number": 3
    },
    {
     "cell_type": "code",
     "collapsed": false,
     "input": [
      "function tostring(a)\n",
      "    s = @sprintf(\"%d\",a[1])\n",
      "    for n in a[2:end]\n",
      "        s = @sprintf(\"%s, %d\",s, n)\n",
      "    end\n",
      "    s\n",
      "end"
     ],
     "language": "python",
     "metadata": {},
     "outputs": [
      {
       "metadata": {},
       "output_type": "pyout",
       "prompt_number": 25,
       "text": [
        "tostring (generic function with 1 method)"
       ]
      }
     ],
     "prompt_number": 25
    },
    {
     "cell_type": "code",
     "collapsed": false,
     "input": [
      "# simple test\n",
      "n = 10\n",
      "test1 = int(rand(n) * 100)\n",
      "println(test1)\n",
      "test1_sorted = insertion_sort(test1,compare_numbers)\n",
      "println(test1_sorted)\n",
      "# duplicates\n",
      "test2 = [test1; test1]\n",
      "println(test2)\n",
      "test2_sorted = insertion_sort(test2,compare_numbers)\n",
      "println(test2_sorted)\n",
      "# vector test\n",
      "println(\"2d vecs:\")\n",
      "vtest1 = int(rand(n,2)*100)\n",
      "for i=1:n\n",
      "    println(vtest1[i,:], \"(\" , norm(vtest1[i,:],2), \")\")\n",
      "end\n",
      "println(\"L2:\")\n",
      "vtest1_sorted = insertion_sort(vtest1,compare_L2)\n",
      "for i=1:n\n",
      "    println(vtest1_sorted[i,:], \"(\" , norm(vtest1_sorted[i,:],2), \")\")\n",
      "end\n",
      "println(\"L1:\")\n",
      "vtest1_sorted_alt = insertion_sort(vtest1,compare_L1)\n",
      "for i=1:n\n",
      "    println(vtest1_sorted_alt[i,:], \"(\" , norm(vtest1_sorted_alt[i,:],2), \")\")\n",
      "end"
     ],
     "language": "python",
     "metadata": {},
     "outputs": [
      {
       "output_type": "stream",
       "stream": "stdout",
       "text": [
        "[44"
       ]
      },
      {
       "output_type": "stream",
       "stream": "stdout",
       "text": [
        ",32,65,98,6,59,98,8,29,99]\n",
        "[6,8,29,32,44,59,65,98,98,99]\n",
        "[6,8,29,32,44,59,65,98,98,99,6,8,29,32,44,59,65,98,98,99]\n",
        "[6,6,8,8,29,29,32,32,44,44,59,59,65,65,98,98,98,98,99,99]\n",
        "2d vecs:\n",
        "[78 72](106.1508360777248)\n",
        "[20 23](30.479501308256342)\n",
        "[3 55](55.08175741568164)\n",
        "[18 90](91.78235124467014)\n",
        "[39 56](68.24221567329126)\n",
        "[60 1](60.00833275471)\n",
        "[14 73](74.33034373659254)\n",
        "[96 36](102.52804494381036)\n",
        "[25 68](72.44998274671981)\n",
        "[40 49](63.25345840347387)\n",
        "L2:\n",
        "[20 23](30.479501308256342)\n",
        "[3 55](55.08175741568164)\n",
        "[60 1](60.00833275471)\n",
        "[40 49](63.25345840347387)\n",
        "[39 56](68.24221567329126)\n",
        "[25 68](72.44998274671981)\n",
        "[14 73](74.33034373659254)\n",
        "[18 90](91.78235124467014)\n",
        "[96 36](102.52804494381036)\n",
        "[78 72](106.1508360777248)\n",
        "L1:\n",
        "[20 23](30.479501308256342)\n",
        "[40 49](63.25345840347387)\n",
        "[3 55](55.08175741568164)\n",
        "[39 56](68.24221567329126)\n",
        "[60 1](60.00833275471)\n",
        "[25 68](72.44998274671981)\n",
        "[14 73](74.33034373659254)\n",
        "[78 72](106.1508360777248)\n",
        "[18 90](91.78235124467014)\n",
        "[96 36](102.52804494381036)\n"
       ]
      }
     ],
     "prompt_number": 24
    },
    {
     "cell_type": "code",
     "collapsed": false,
     "input": [
      "ipdisplay.HTML(@sprintf(\"<h2>%s</h2>\",tostring(test2_sorted)))"
     ],
     "language": "python",
     "metadata": {},
     "outputs": [
      {
       "html": [
        "<h2>6, 6, 8, 8, 29, 29, 32, 32, 44, 44, 59, 59, 65, 65, 98, 98, 98, 98, 99, 99</h2>"
       ],
       "metadata": {},
       "output_type": "pyout",
       "prompt_number": 26,
       "text": [
        "PyObject <IPython.core.display.HTML object at 0xae12610>"
       ]
      }
     ],
     "prompt_number": 26
    },
    {
     "cell_type": "markdown",
     "metadata": {},
     "source": [
      "## loop invariants:\n",
      "\n",
      "* used to show an algorithm is correct, similar to proof by induction, but instead of doing to infinity we only go to the end of the loop\n",
      "\n",
      "__invariant:__ some claim that should be true at the before the first iteration, at beginning of each iteration, and at the end of the algorithm\n",
      "\n",
      "__initialization:__ is the invariant true prior to the first iteration?\n",
      "\n",
      "__maintenance:__ if it is true before an iteration fo the loop, it remains true before the next iteration\n",
      "\n",
      "__termination:__ when the loop terminates, the invariant gives us a useful property that helps show the algorithm is correct"
     ]
    },
    {
     "cell_type": "markdown",
     "metadata": {},
     "source": [
      "## loop invariants for insertion sort:\n",
      "\n",
      "__invariant:___ At the start of each iteration the subarray $A[1 \\ldots j-1]$ consists of the elements originally in $A[1 \\ldots j-1]$ but in sorted order\n",
      "\n",
      "__initialization:__ $A[1 \\ldots j-1] = A[1]$ which consists of the original $A[1]$ and is in sorted order.\n",
      "\n",
      "__maintenance:__ informally, during an iteration the elements $A[1 \\ldots j]$ are put in order by inserting the original element $A[j]$ into the appropiate locatoin within the sorted elements $A[1 \\ldots j-1]$, so that at the beginning of the next iteration ($j = j+1$), the invariant holds.\n",
      "\n",
      "__termination:__ the loop terminates when $j = n+1$, so that $A[1 \\ldots j-1] = A[1 \\ldots n]$, which is the entire array sorted.  Hence the entire array is sorted and the algorithm is correct."
     ]
    },
    {
     "cell_type": "markdown",
     "metadata": {},
     "source": [
      "# Analysis\n",
      "\n"
     ]
    }
   ],
   "metadata": {}
  }
 ]
}