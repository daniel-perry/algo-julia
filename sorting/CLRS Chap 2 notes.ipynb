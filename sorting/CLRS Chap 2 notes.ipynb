{
 "metadata": {
  "language": "Julia",
  "name": "",
  "signature": "sha256:2632ae82ffe44da21b0f6f4933a5f82f6ba3e4a47847994541ccd14fe2f24c10"
 },
 "nbformat": 3,
 "nbformat_minor": 0,
 "worksheets": [
  {
   "cells": [
    {
     "cell_type": "code",
     "collapsed": false,
     "input": [
      "# example comparison function\n",
      "function compare_numbers(a,b)\n",
      "    if a[1] < b[1]\n",
      "        return -1\n",
      "    elseif a[1] > b[1]\n",
      "        return 1\n",
      "    else\n",
      "        return 0\n",
      "    end\n",
      "end\n",
      "\n",
      "# example comparison function\n",
      "function compare_L2(a,b)\n",
      "    if norm(a,2) < norm(b,2)\n",
      "        return -1\n",
      "    elseif norm(a,2) > norm(b,2)\n",
      "        return 1\n",
      "    else\n",
      "        return 0\n",
      "    end\n",
      "end\n",
      "\n",
      "# example comparison function\n",
      "function compare_L1(a,b)\n",
      "    if norm(a,1) < norm(b,1)\n",
      "        return -1\n",
      "    elseif norm(a,1) > norm(b,1)\n",
      "        return 1\n",
      "    else\n",
      "        return 0\n",
      "    end\n",
      "end"
     ],
     "language": "python",
     "metadata": {},
     "outputs": [
      {
       "metadata": {},
       "output_type": "pyout",
       "prompt_number": 9,
       "text": [
        "compare_L1 (generic function with 1 method)"
       ]
      }
     ],
     "prompt_number": 9
    },
    {
     "cell_type": "code",
     "collapsed": false,
     "input": [
      "# insertion sort\n",
      "# Runtime: O(n^2)\n",
      "function insertion_sort(A,compare)\n",
      "    n = size(A,1)\n",
      "    for i=2:n\n",
      "        val = A[i,:]\n",
      "        ind = 0\n",
      "        for j=1:i-1 #TODO use binary search instead\n",
      "            if compare(val,A[j,:]) <= 0\n",
      "                ind = j\n",
      "                break\n",
      "            end \n",
      "        end\n",
      "        if ind > 0\n",
      "            A[ind+1:i,:] = A[ind:i-1,:]\n",
      "            A[ind,:] = val\n",
      "        end\n",
      "    end\n",
      "    A\n",
      "end"
     ],
     "language": "python",
     "metadata": {},
     "outputs": [
      {
       "metadata": {},
       "output_type": "pyout",
       "prompt_number": 10,
       "text": [
        "insertion_sort (generic function with 2 methods)"
       ]
      }
     ],
     "prompt_number": 10
    },
    {
     "cell_type": "code",
     "collapsed": false,
     "input": [
      "# simple test\n",
      "n = 10\n",
      "test1 = int(rand(n) * 100)\n",
      "println(test1)\n",
      "test1_sorted = insertion_sort(test1,compare_numbers)\n",
      "println(test1_sorted)\n",
      "# duplicates\n",
      "test2 = [test1; test1]\n",
      "println(test2)\n",
      "test2_sorted = insertion_sort(test2,compare_numbers)\n",
      "println(test2_sorted)\n",
      "\n",
      "# vector test\n",
      "println(\"2d vecs:\")\n",
      "vtest1 = int(rand(n,2)*100)\n",
      "for i=1:n\n",
      "    println(vtest1[i,:], \"(\" , norm(vtest1[i,:],2), \")\")\n",
      "end\n",
      "println(\"L2:\")\n",
      "vtest1_sorted = insertion_sort(vtest1,compare_L2)\n",
      "for i=1:n\n",
      "    println(vtest1_sorted[i,:], \"(\" , norm(vtest1_sorted[i,:],2), \")\")\n",
      "end\n",
      "println(\"L1:\")\n",
      "vtest1_sorted_alt = insertion_sort(vtest1,compare_L1)\n",
      "for i=1:n\n",
      "    println(vtest1_sorted_alt[i,:], \"(\" , norm(vtest1_sorted_alt[i,:],2), \")\")\n",
      "end"
     ],
     "language": "python",
     "metadata": {},
     "outputs": [
      {
       "output_type": "stream",
       "stream": "stdout",
       "text": [
        "[98"
       ]
      },
      {
       "output_type": "stream",
       "stream": "stdout",
       "text": [
        ",23,31,76,44,40,28,16,82,46]\n",
        "[16,23,28,31,40,44,46,76,82,98]\n",
        "[16,23,28,31,40,44,46,76,82,98,16,23,28,31,40,44,46,76,82,98]\n",
        "[16,16,23,23,28,28,31,31,40,40,44,44,46,46,76,76,82,82,98,98]\n",
        "2d vecs:\n",
        "[79 25](82.86132994346639)\n",
        "[8 65](65.49045732013177)\n",
        "[66 16](67.91170738539859)\n",
        "[12 49](50.44799302251774)\n",
        "[86 72](112.16059914247961)\n",
        "[49 33](59.076221950967714)\n",
        "[3 35](35.12833614050059)\n",
        "[10 85](85.58621384311846)\n",
        "[5 23](23.53720459187964)\n",
        "[50 93](105.58882516630253)\n",
        "L2:\n",
        "[5 23](23.53720459187964)\n",
        "[3 35](35.12833614050059)\n",
        "[12 49](50.44799302251774)\n",
        "[49 33](59.076221950967714)\n",
        "[8 65](65.49045732013177)\n",
        "[66 16](67.91170738539859)\n",
        "[79 25](82.86132994346639)\n",
        "[10 85](85.58621384311846)\n",
        "[50 93](105.58882516630253)\n",
        "[86 72](112.16059914247961)\n",
        "L1:\n",
        "[5 23](23.53720459187964)\n",
        "[3 35](35.12833614050059)\n",
        "[49 33](59.076221950967714)\n",
        "[12 49](50.44799302251774)\n",
        "[8 65](65.49045732013177)\n",
        "[66 16](67.91170738539859)\n",
        "[79 25](82.86132994346639)\n",
        "[10 85](85.58621384311846)\n",
        "[86 72](112.16059914247961)\n",
        "[50 93](105.58882516630253)\n"
       ]
      }
     ],
     "prompt_number": 18
    },
    {
     "cell_type": "code",
     "collapsed": false,
     "input": [],
     "language": "python",
     "metadata": {},
     "outputs": []
    }
   ],
   "metadata": {}
  }
 ]
}